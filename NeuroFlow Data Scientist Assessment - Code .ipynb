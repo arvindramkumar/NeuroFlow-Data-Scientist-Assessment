{
 "cells": [
  {
   "cell_type": "markdown",
   "metadata": {},
   "source": [
    "# --------------------------------------------------------------------------------------------"
   ]
  },
  {
   "cell_type": "markdown",
   "metadata": {},
   "source": [
    "# NeuroFlow Data Scientist - Assesment"
   ]
  },
  {
   "cell_type": "markdown",
   "metadata": {},
   "source": [
    "Submitted By \n",
    "\n",
    "1. Name - Arvind Ramkumar \n",
    "1. Phone - 4808592393\n",
    "1. Email - arvindramkumar1996@gmail.com\n",
    "1. Website - https://arvindramkumar.com"
   ]
  },
  {
   "cell_type": "markdown",
   "metadata": {},
   "source": [
    "# --------------------------------------------------------------------------------------------"
   ]
  },
  {
   "cell_type": "markdown",
   "metadata": {},
   "source": [
    "## Data PreProcessing  "
   ]
  },
  {
   "cell_type": "code",
   "execution_count": 65,
   "metadata": {},
   "outputs": [],
   "source": [
    "import pandas as pd \n",
    "import numpy as np\n",
    "\n",
    "from matplotlib import pyplot as plt\n",
    "%matplotlib inline"
   ]
  },
  {
   "cell_type": "code",
   "execution_count": 66,
   "metadata": {},
   "outputs": [],
   "source": [
    "df = pd.read_csv('phq_all_final (1).csv')"
   ]
  },
  {
   "cell_type": "code",
   "execution_count": 67,
   "metadata": {},
   "outputs": [
    {
     "data": {
      "text/html": [
       "<div>\n",
       "<style scoped>\n",
       "    .dataframe tbody tr th:only-of-type {\n",
       "        vertical-align: middle;\n",
       "    }\n",
       "\n",
       "    .dataframe tbody tr th {\n",
       "        vertical-align: top;\n",
       "    }\n",
       "\n",
       "    .dataframe thead th {\n",
       "        text-align: right;\n",
       "    }\n",
       "</style>\n",
       "<table border=\"1\" class=\"dataframe\">\n",
       "  <thead>\n",
       "    <tr style=\"text-align: right;\">\n",
       "      <th></th>\n",
       "      <th>date</th>\n",
       "      <th>patient_id</th>\n",
       "      <th>type</th>\n",
       "      <th>patient_date_created</th>\n",
       "      <th>score</th>\n",
       "    </tr>\n",
       "  </thead>\n",
       "  <tbody>\n",
       "    <tr>\n",
       "      <th>0</th>\n",
       "      <td>2019-08-26T13:32:43.019162</td>\n",
       "      <td>8430</td>\n",
       "      <td>gad7</td>\n",
       "      <td>2019-06-03T13:23:02.63568</td>\n",
       "      <td>6</td>\n",
       "    </tr>\n",
       "    <tr>\n",
       "      <th>1</th>\n",
       "      <td>2019-11-15T17:55:11.364877</td>\n",
       "      <td>8430</td>\n",
       "      <td>gad7</td>\n",
       "      <td>2019-06-03T13:23:02.63568</td>\n",
       "      <td>1</td>\n",
       "    </tr>\n",
       "    <tr>\n",
       "      <th>2</th>\n",
       "      <td>2019-10-07T18:23:29.611351</td>\n",
       "      <td>14338</td>\n",
       "      <td>gad7</td>\n",
       "      <td>2019-06-03T13:32:30.66846</td>\n",
       "      <td>10</td>\n",
       "    </tr>\n",
       "    <tr>\n",
       "      <th>3</th>\n",
       "      <td>2019-11-04T20:16:28.610965</td>\n",
       "      <td>14338</td>\n",
       "      <td>gad7</td>\n",
       "      <td>2019-06-03T13:32:30.66846</td>\n",
       "      <td>7</td>\n",
       "    </tr>\n",
       "    <tr>\n",
       "      <th>4</th>\n",
       "      <td>2019-12-02T20:56:55.966354</td>\n",
       "      <td>14338</td>\n",
       "      <td>gad7</td>\n",
       "      <td>2019-06-03T13:32:30.66846</td>\n",
       "      <td>9</td>\n",
       "    </tr>\n",
       "  </tbody>\n",
       "</table>\n",
       "</div>"
      ],
      "text/plain": [
       "                         date  patient_id  type       patient_date_created  \\\n",
       "0  2019-08-26T13:32:43.019162        8430  gad7  2019-06-03T13:23:02.63568   \n",
       "1  2019-11-15T17:55:11.364877        8430  gad7  2019-06-03T13:23:02.63568   \n",
       "2  2019-10-07T18:23:29.611351       14338  gad7  2019-06-03T13:32:30.66846   \n",
       "3  2019-11-04T20:16:28.610965       14338  gad7  2019-06-03T13:32:30.66846   \n",
       "4  2019-12-02T20:56:55.966354       14338  gad7  2019-06-03T13:32:30.66846   \n",
       "\n",
       "   score  \n",
       "0      6  \n",
       "1      1  \n",
       "2     10  \n",
       "3      7  \n",
       "4      9  "
      ]
     },
     "execution_count": 67,
     "metadata": {},
     "output_type": "execute_result"
    }
   ],
   "source": [
    "df.head()"
   ]
  },
  {
   "cell_type": "code",
   "execution_count": 68,
   "metadata": {},
   "outputs": [
    {
     "data": {
      "text/plain": [
       "(53698, 5)"
      ]
     },
     "execution_count": 68,
     "metadata": {},
     "output_type": "execute_result"
    }
   ],
   "source": [
    "df.shape"
   ]
  },
  {
   "cell_type": "code",
   "execution_count": 69,
   "metadata": {},
   "outputs": [
    {
     "data": {
      "text/plain": [
       "date                    53698\n",
       "patient_id              53698\n",
       "type                    53698\n",
       "patient_date_created    53698\n",
       "score                   53698\n",
       "dtype: int64"
      ]
     },
     "execution_count": 69,
     "metadata": {},
     "output_type": "execute_result"
    }
   ],
   "source": [
    "# Number of Not Null Values\n",
    "\n",
    "notnull_columns = df.columns[df.notnull().any()]\n",
    "df[notnull_columns].notnull().sum()"
   ]
  },
  {
   "cell_type": "code",
   "execution_count": 70,
   "metadata": {},
   "outputs": [
    {
     "name": "stdout",
     "output_type": "stream",
     "text": [
      "Number of Unique Patient ID is 15502\n"
     ]
    }
   ],
   "source": [
    "print('Number of Unique Patient ID is' , df['patient_id'].nunique())"
   ]
  },
  {
   "cell_type": "code",
   "execution_count": 71,
   "metadata": {},
   "outputs": [
    {
     "data": {
      "text/plain": [
       "date                    object\n",
       "patient_id               int64\n",
       "type                    object\n",
       "patient_date_created    object\n",
       "score                    int64\n",
       "dtype: object"
      ]
     },
     "execution_count": 71,
     "metadata": {},
     "output_type": "execute_result"
    }
   ],
   "source": [
    "df.dtypes"
   ]
  },
  {
   "cell_type": "code",
   "execution_count": 72,
   "metadata": {},
   "outputs": [],
   "source": [
    "df['date'] =  pd.to_datetime(df['date'])\n",
    "df['patient_date_created'] =  pd.to_datetime(df['patient_date_created'])\n",
    "\n",
    "df['c_month'] = df['patient_date_created'].dt.month # Month\n",
    "df['c_year'] = df['patient_date_created'].dt.year # Year\n",
    "\n",
    "df['e_month'] = df['date'].dt.month # Month\n",
    "df['e_year'] = df['date'].dt.year # Year"
   ]
  },
  {
   "cell_type": "code",
   "execution_count": 73,
   "metadata": {},
   "outputs": [
    {
     "data": {
      "text/html": [
       "<div>\n",
       "<style scoped>\n",
       "    .dataframe tbody tr th:only-of-type {\n",
       "        vertical-align: middle;\n",
       "    }\n",
       "\n",
       "    .dataframe tbody tr th {\n",
       "        vertical-align: top;\n",
       "    }\n",
       "\n",
       "    .dataframe thead th {\n",
       "        text-align: right;\n",
       "    }\n",
       "</style>\n",
       "<table border=\"1\" class=\"dataframe\">\n",
       "  <thead>\n",
       "    <tr style=\"text-align: right;\">\n",
       "      <th></th>\n",
       "      <th>date</th>\n",
       "      <th>patient_id</th>\n",
       "      <th>type</th>\n",
       "      <th>patient_date_created</th>\n",
       "      <th>score</th>\n",
       "      <th>c_month</th>\n",
       "      <th>c_year</th>\n",
       "      <th>e_month</th>\n",
       "      <th>e_year</th>\n",
       "    </tr>\n",
       "  </thead>\n",
       "  <tbody>\n",
       "    <tr>\n",
       "      <th>0</th>\n",
       "      <td>2019-08-26 13:32:43.019162</td>\n",
       "      <td>8430</td>\n",
       "      <td>gad7</td>\n",
       "      <td>2019-06-03 13:23:02.635680</td>\n",
       "      <td>6</td>\n",
       "      <td>6</td>\n",
       "      <td>2019</td>\n",
       "      <td>8</td>\n",
       "      <td>2019</td>\n",
       "    </tr>\n",
       "    <tr>\n",
       "      <th>1</th>\n",
       "      <td>2019-11-15 17:55:11.364877</td>\n",
       "      <td>8430</td>\n",
       "      <td>gad7</td>\n",
       "      <td>2019-06-03 13:23:02.635680</td>\n",
       "      <td>1</td>\n",
       "      <td>6</td>\n",
       "      <td>2019</td>\n",
       "      <td>11</td>\n",
       "      <td>2019</td>\n",
       "    </tr>\n",
       "    <tr>\n",
       "      <th>2</th>\n",
       "      <td>2019-10-07 18:23:29.611351</td>\n",
       "      <td>14338</td>\n",
       "      <td>gad7</td>\n",
       "      <td>2019-06-03 13:32:30.668460</td>\n",
       "      <td>10</td>\n",
       "      <td>6</td>\n",
       "      <td>2019</td>\n",
       "      <td>10</td>\n",
       "      <td>2019</td>\n",
       "    </tr>\n",
       "    <tr>\n",
       "      <th>3</th>\n",
       "      <td>2019-11-04 20:16:28.610965</td>\n",
       "      <td>14338</td>\n",
       "      <td>gad7</td>\n",
       "      <td>2019-06-03 13:32:30.668460</td>\n",
       "      <td>7</td>\n",
       "      <td>6</td>\n",
       "      <td>2019</td>\n",
       "      <td>11</td>\n",
       "      <td>2019</td>\n",
       "    </tr>\n",
       "    <tr>\n",
       "      <th>4</th>\n",
       "      <td>2019-12-02 20:56:55.966354</td>\n",
       "      <td>14338</td>\n",
       "      <td>gad7</td>\n",
       "      <td>2019-06-03 13:32:30.668460</td>\n",
       "      <td>9</td>\n",
       "      <td>6</td>\n",
       "      <td>2019</td>\n",
       "      <td>12</td>\n",
       "      <td>2019</td>\n",
       "    </tr>\n",
       "  </tbody>\n",
       "</table>\n",
       "</div>"
      ],
      "text/plain": [
       "                        date  patient_id  type       patient_date_created  \\\n",
       "0 2019-08-26 13:32:43.019162        8430  gad7 2019-06-03 13:23:02.635680   \n",
       "1 2019-11-15 17:55:11.364877        8430  gad7 2019-06-03 13:23:02.635680   \n",
       "2 2019-10-07 18:23:29.611351       14338  gad7 2019-06-03 13:32:30.668460   \n",
       "3 2019-11-04 20:16:28.610965       14338  gad7 2019-06-03 13:32:30.668460   \n",
       "4 2019-12-02 20:56:55.966354       14338  gad7 2019-06-03 13:32:30.668460   \n",
       "\n",
       "   score  c_month  c_year  e_month  e_year  \n",
       "0      6        6    2019        8    2019  \n",
       "1      1        6    2019       11    2019  \n",
       "2     10        6    2019       10    2019  \n",
       "3      7        6    2019       11    2019  \n",
       "4      9        6    2019       12    2019  "
      ]
     },
     "execution_count": 73,
     "metadata": {},
     "output_type": "execute_result"
    }
   ],
   "source": [
    "df.head()"
   ]
  },
  {
   "cell_type": "markdown",
   "metadata": {},
   "source": [
    "### Initial Findings \n",
    "1.\tThere were 53,698 Exams in total, so 53,698 rows in total \n",
    "2.\tThere are no missing values \n",
    "3.\tThere are 15,502 Unique Patient ID. \n",
    "4.\tThe dates were in the object dtype and is converted to Time Format. \n",
    "5.\tThe dates had time in them up to ms. \n",
    "6.\tThere is only one type of exam data is available (gad7) and thus, making the type column redundant. \n",
    "\n"
   ]
  },
  {
   "cell_type": "markdown",
   "metadata": {},
   "source": [
    "# --------------------------------------------------------------------------------------------"
   ]
  },
  {
   "cell_type": "markdown",
   "metadata": {},
   "source": [
    "# Assumptions  \n",
    "\n",
    "7.\tThe months between 2020 March and 2020 July is affected by COVID. So, the values including the patients admitted and the exams taken might be affected by this reason. But since we do not have enough data, for the entire analysis, COVID is assumed to have not happened. (Except for a few scenarios and it will be mentioned wherever required). \n",
    "1.\tEach unique ID corresponds to a patient. No two patients will have the same ID, or the same person would not have more than one ID.\n",
    "2.\tThe exams were taken by the patients either coming to the center or from the home, but the exams are not hand filled. This is because the exercise date has a time stamp, that’s accurate to milliseconds. This is not possible unless the exam is taken on an electronic medium. \n",
    "3.\tThe patients did not undergo any emotional calming therapy or activity before taking the test and doing this will not exactly capture their anxiety level. So, here it is assumed that the patient took the test whenever he felt like, and no deliberate actions were taken prior to the test \n",
    "4.\tIt is quite unsure whether the patient came in to take the test on their own will or where the forced. If the patient takes the test with no interest, the result might not exactly reflect to what their anxiety level is. Here, for assumption, let’s assume that the patients came under their own will, so the anxiety level is captured properly. \n",
    "5.\tThis is basically a big experiment that will exactly portray the patient’s anxiety level, so let’s assume that there is a randomization is involved and will help in our statistical evaluation. \n",
    "6.\tAlthough, it is mentioned that the cadence at which the tests are given typically monthly once or twice but might vary. Here we assume that there are no follow ups on a specific routine as such and there might just be a minimum number of times that they had to take the test, but they could also take the test more than the minimum number of times. \n"
   ]
  },
  {
   "cell_type": "markdown",
   "metadata": {},
   "source": [
    "# --------------------------------------------------------------------------------------------"
   ]
  },
  {
   "cell_type": "markdown",
   "metadata": {},
   "source": [
    "## 1. Patients Registration Over the Period of Time"
   ]
  },
  {
   "cell_type": "code",
   "execution_count": 76,
   "metadata": {},
   "outputs": [],
   "source": [
    "df_patient = df.drop_duplicates(subset = [\"patient_id\"])"
   ]
  },
  {
   "cell_type": "code",
   "execution_count": 117,
   "metadata": {},
   "outputs": [
    {
     "data": {
      "text/html": [
       "<div>\n",
       "<style scoped>\n",
       "    .dataframe tbody tr th:only-of-type {\n",
       "        vertical-align: middle;\n",
       "    }\n",
       "\n",
       "    .dataframe tbody tr th {\n",
       "        vertical-align: top;\n",
       "    }\n",
       "\n",
       "    .dataframe thead th {\n",
       "        text-align: right;\n",
       "    }\n",
       "</style>\n",
       "<table border=\"1\" class=\"dataframe\">\n",
       "  <thead>\n",
       "    <tr style=\"text-align: right;\">\n",
       "      <th></th>\n",
       "      <th></th>\n",
       "      <th>patient_id</th>\n",
       "    </tr>\n",
       "    <tr>\n",
       "      <th>c_year</th>\n",
       "      <th>c_month</th>\n",
       "      <th></th>\n",
       "    </tr>\n",
       "  </thead>\n",
       "  <tbody>\n",
       "    <tr>\n",
       "      <th rowspan=\"7\" valign=\"top\">2019</th>\n",
       "      <th>6</th>\n",
       "      <td>354</td>\n",
       "    </tr>\n",
       "    <tr>\n",
       "      <th>7</th>\n",
       "      <td>349</td>\n",
       "    </tr>\n",
       "    <tr>\n",
       "      <th>8</th>\n",
       "      <td>1282</td>\n",
       "    </tr>\n",
       "    <tr>\n",
       "      <th>9</th>\n",
       "      <td>840</td>\n",
       "    </tr>\n",
       "    <tr>\n",
       "      <th>10</th>\n",
       "      <td>999</td>\n",
       "    </tr>\n",
       "    <tr>\n",
       "      <th>11</th>\n",
       "      <td>1129</td>\n",
       "    </tr>\n",
       "    <tr>\n",
       "      <th>12</th>\n",
       "      <td>1321</td>\n",
       "    </tr>\n",
       "    <tr>\n",
       "      <th rowspan=\"7\" valign=\"top\">2020</th>\n",
       "      <th>1</th>\n",
       "      <td>1298</td>\n",
       "    </tr>\n",
       "    <tr>\n",
       "      <th>2</th>\n",
       "      <td>2149</td>\n",
       "    </tr>\n",
       "    <tr>\n",
       "      <th>3</th>\n",
       "      <td>1829</td>\n",
       "    </tr>\n",
       "    <tr>\n",
       "      <th>4</th>\n",
       "      <td>1524</td>\n",
       "    </tr>\n",
       "    <tr>\n",
       "      <th>5</th>\n",
       "      <td>738</td>\n",
       "    </tr>\n",
       "    <tr>\n",
       "      <th>6</th>\n",
       "      <td>987</td>\n",
       "    </tr>\n",
       "    <tr>\n",
       "      <th>7</th>\n",
       "      <td>703</td>\n",
       "    </tr>\n",
       "  </tbody>\n",
       "</table>\n",
       "</div>"
      ],
      "text/plain": [
       "                patient_id\n",
       "c_year c_month            \n",
       "2019   6               354\n",
       "       7               349\n",
       "       8              1282\n",
       "       9               840\n",
       "       10              999\n",
       "       11             1129\n",
       "       12             1321\n",
       "2020   1              1298\n",
       "       2              2149\n",
       "       3              1829\n",
       "       4              1524\n",
       "       5               738\n",
       "       6               987\n",
       "       7               703"
      ]
     },
     "execution_count": 117,
     "metadata": {},
     "output_type": "execute_result"
    },
    {
     "data": {
      "image/png": "[encoded data removed]",
      "text/plain": [
       "<Figure size 432x288 with 1 Axes>"
      ]
     },
     "metadata": {},
     "output_type": "display_data"
    }
   ],
   "source": [
    "pd.crosstab(df_patient['c_year'],df_patient['c_month']).plot.bar()\n",
    "number_of_patients = df_patient.groupby(['c_year', 'c_month']).count()[['patient_id']]\n",
    "number_of_patients"
   ]
  },
  {
   "cell_type": "markdown",
   "metadata": {},
   "source": [
    "#### Findings \n",
    "\n",
    "1.\tWe have the data spread from 2019 June to 2020 July. \n",
    "2.\tWith the given data, we can see that there is an average overall rise in the number of patients until 2020 February. \n",
    "3.\tAfter 2020 February, the Patients registering has begun to decline. \n",
    "4.\tWe might need to find the reason why there is a decline in the admittance of patient after February 2020. Although there is a possibility that the saturation point has been reached, it’s impossible to say for sure. Because we do not know about since when did the company has been taking in patients. \n",
    "5.\tAlso, the decline period, is a period of COVID. So it is an high possibility that people avoided their mental health checkup due to lockdowns and safety reasons. \n",
    "6.\tSince the company began in 2016, I am assuming that we had patients since then and we might need to assess the patient’s registration since beginning to understand the extent of the problem. \n",
    "7.\tIf we have more data, it’s possible to preform YOY analysis or MOM Analysis. \n",
    "8.\tIf this problem isn’t addressed, then the company might be in serious problem. \n",
    "9.\tThe c_year and c_month represent the Year and Month in which the patient registered with the Neuroflow. \n"
   ]
  },
  {
   "cell_type": "markdown",
   "metadata": {},
   "source": [
    "## 2. Number of Exams taken over the period of time "
   ]
  },
  {
   "cell_type": "code",
   "execution_count": 110,
   "metadata": {},
   "outputs": [
    {
     "data": {
      "text/html": [
       "<div>\n",
       "<style scoped>\n",
       "    .dataframe tbody tr th:only-of-type {\n",
       "        vertical-align: middle;\n",
       "    }\n",
       "\n",
       "    .dataframe tbody tr th {\n",
       "        vertical-align: top;\n",
       "    }\n",
       "\n",
       "    .dataframe thead th {\n",
       "        text-align: right;\n",
       "    }\n",
       "</style>\n",
       "<table border=\"1\" class=\"dataframe\">\n",
       "  <thead>\n",
       "    <tr style=\"text-align: right;\">\n",
       "      <th></th>\n",
       "      <th></th>\n",
       "      <th>patient_id</th>\n",
       "    </tr>\n",
       "    <tr>\n",
       "      <th>e_year</th>\n",
       "      <th>e_month</th>\n",
       "      <th></th>\n",
       "    </tr>\n",
       "  </thead>\n",
       "  <tbody>\n",
       "    <tr>\n",
       "      <th rowspan=\"7\" valign=\"top\">2019</th>\n",
       "      <th>6</th>\n",
       "      <td>177</td>\n",
       "    </tr>\n",
       "    <tr>\n",
       "      <th>7</th>\n",
       "      <td>471</td>\n",
       "    </tr>\n",
       "    <tr>\n",
       "      <th>8</th>\n",
       "      <td>1067</td>\n",
       "    </tr>\n",
       "    <tr>\n",
       "      <th>9</th>\n",
       "      <td>1950</td>\n",
       "    </tr>\n",
       "    <tr>\n",
       "      <th>10</th>\n",
       "      <td>2744</td>\n",
       "    </tr>\n",
       "    <tr>\n",
       "      <th>11</th>\n",
       "      <td>3234</td>\n",
       "    </tr>\n",
       "    <tr>\n",
       "      <th>12</th>\n",
       "      <td>3814</td>\n",
       "    </tr>\n",
       "    <tr>\n",
       "      <th rowspan=\"7\" valign=\"top\">2020</th>\n",
       "      <th>1</th>\n",
       "      <td>4953</td>\n",
       "    </tr>\n",
       "    <tr>\n",
       "      <th>2</th>\n",
       "      <td>5304</td>\n",
       "    </tr>\n",
       "    <tr>\n",
       "      <th>3</th>\n",
       "      <td>6158</td>\n",
       "    </tr>\n",
       "    <tr>\n",
       "      <th>4</th>\n",
       "      <td>7072</td>\n",
       "    </tr>\n",
       "    <tr>\n",
       "      <th>5</th>\n",
       "      <td>5797</td>\n",
       "    </tr>\n",
       "    <tr>\n",
       "      <th>6</th>\n",
       "      <td>5420</td>\n",
       "    </tr>\n",
       "    <tr>\n",
       "      <th>7</th>\n",
       "      <td>5537</td>\n",
       "    </tr>\n",
       "  </tbody>\n",
       "</table>\n",
       "</div>"
      ],
      "text/plain": [
       "                patient_id\n",
       "e_year e_month            \n",
       "2019   6               177\n",
       "       7               471\n",
       "       8              1067\n",
       "       9              1950\n",
       "       10             2744\n",
       "       11             3234\n",
       "       12             3814\n",
       "2020   1              4953\n",
       "       2              5304\n",
       "       3              6158\n",
       "       4              7072\n",
       "       5              5797\n",
       "       6              5420\n",
       "       7              5537"
      ]
     },
     "execution_count": 110,
     "metadata": {},
     "output_type": "execute_result"
    },
    {
     "data": {
      "image/png": "[encoded data removed]",
      "text/plain": [
       "<Figure size 432x288 with 1 Axes>"
      ]
     },
     "metadata": {},
     "output_type": "display_data"
    }
   ],
   "source": [
    "pd.crosstab(df['e_year'],df['e_month']).plot.bar()\n",
    "number_of_exams = df.groupby(['e_year', 'e_month']).count()[['patient_id']]\n",
    "number_of_exams"
   ]
  },
  {
   "cell_type": "markdown",
   "metadata": {},
   "source": [
    "#### Findings\n",
    "\n",
    "1.\tThe findings of this table and graph is coherent with the findings that we had from “Patients registered over the period of time”. \n",
    "2.\tSince there was a decline in number of patients registering to Neuroflow, there is an impact on the number of exams taken as well. \n",
    "3.\tThere is a linear increase in the number of exams taken until 2020 April and has a decreasing trend after that. \n",
    "4.\tIt is a possibility to say that the Number of patients affecting the number of exams taken is affecting by a lag of 2 months. But to know for sure, we would need the previous all available rhetorical data. \n",
    "5.\tIf we can establish the lag and relationship between those two, it is possible for us to identify the expectation of the rise or fall of the number of exams, based on the number of new patients we will have. \n",
    "\t \t \n",
    "6.\tE_year and e_month represent the Year and Month when the exam was taken respectively. \n"
   ]
  },
  {
   "cell_type": "markdown",
   "metadata": {},
   "source": [
    "## 3. Exam Scores Variation "
   ]
  },
  {
   "cell_type": "code",
   "execution_count": 124,
   "metadata": {},
   "outputs": [
    {
     "data": {
      "text/html": [
       "<div>\n",
       "<style scoped>\n",
       "    .dataframe tbody tr th:only-of-type {\n",
       "        vertical-align: middle;\n",
       "    }\n",
       "\n",
       "    .dataframe tbody tr th {\n",
       "        vertical-align: top;\n",
       "    }\n",
       "\n",
       "    .dataframe thead th {\n",
       "        text-align: right;\n",
       "    }\n",
       "</style>\n",
       "<table border=\"1\" class=\"dataframe\">\n",
       "  <thead>\n",
       "    <tr style=\"text-align: right;\">\n",
       "      <th></th>\n",
       "      <th></th>\n",
       "      <th>min</th>\n",
       "      <th>max</th>\n",
       "      <th>sum</th>\n",
       "      <th>count</th>\n",
       "      <th>mean</th>\n",
       "    </tr>\n",
       "    <tr>\n",
       "      <th>e_year</th>\n",
       "      <th>e_month</th>\n",
       "      <th></th>\n",
       "      <th></th>\n",
       "      <th></th>\n",
       "      <th></th>\n",
       "      <th></th>\n",
       "    </tr>\n",
       "  </thead>\n",
       "  <tbody>\n",
       "    <tr>\n",
       "      <th rowspan=\"7\" valign=\"top\">2019</th>\n",
       "      <th>6</th>\n",
       "      <td>0</td>\n",
       "      <td>21</td>\n",
       "      <td>1499</td>\n",
       "      <td>177</td>\n",
       "      <td>8.468927</td>\n",
       "    </tr>\n",
       "    <tr>\n",
       "      <th>7</th>\n",
       "      <td>0</td>\n",
       "      <td>21</td>\n",
       "      <td>3040</td>\n",
       "      <td>471</td>\n",
       "      <td>6.454352</td>\n",
       "    </tr>\n",
       "    <tr>\n",
       "      <th>8</th>\n",
       "      <td>0</td>\n",
       "      <td>21</td>\n",
       "      <td>7386</td>\n",
       "      <td>1067</td>\n",
       "      <td>6.922212</td>\n",
       "    </tr>\n",
       "    <tr>\n",
       "      <th>9</th>\n",
       "      <td>0</td>\n",
       "      <td>21</td>\n",
       "      <td>12040</td>\n",
       "      <td>1950</td>\n",
       "      <td>6.174359</td>\n",
       "    </tr>\n",
       "    <tr>\n",
       "      <th>10</th>\n",
       "      <td>0</td>\n",
       "      <td>21</td>\n",
       "      <td>14269</td>\n",
       "      <td>2744</td>\n",
       "      <td>5.200073</td>\n",
       "    </tr>\n",
       "    <tr>\n",
       "      <th>11</th>\n",
       "      <td>0</td>\n",
       "      <td>21</td>\n",
       "      <td>15895</td>\n",
       "      <td>3234</td>\n",
       "      <td>4.914966</td>\n",
       "    </tr>\n",
       "    <tr>\n",
       "      <th>12</th>\n",
       "      <td>0</td>\n",
       "      <td>21</td>\n",
       "      <td>17970</td>\n",
       "      <td>3814</td>\n",
       "      <td>4.711589</td>\n",
       "    </tr>\n",
       "    <tr>\n",
       "      <th rowspan=\"7\" valign=\"top\">2020</th>\n",
       "      <th>1</th>\n",
       "      <td>0</td>\n",
       "      <td>21</td>\n",
       "      <td>22831</td>\n",
       "      <td>4953</td>\n",
       "      <td>4.609530</td>\n",
       "    </tr>\n",
       "    <tr>\n",
       "      <th>2</th>\n",
       "      <td>0</td>\n",
       "      <td>21</td>\n",
       "      <td>24960</td>\n",
       "      <td>5304</td>\n",
       "      <td>4.705882</td>\n",
       "    </tr>\n",
       "    <tr>\n",
       "      <th>3</th>\n",
       "      <td>0</td>\n",
       "      <td>21</td>\n",
       "      <td>28619</td>\n",
       "      <td>6158</td>\n",
       "      <td>4.647450</td>\n",
       "    </tr>\n",
       "    <tr>\n",
       "      <th>4</th>\n",
       "      <td>0</td>\n",
       "      <td>21</td>\n",
       "      <td>31886</td>\n",
       "      <td>7072</td>\n",
       "      <td>4.508767</td>\n",
       "    </tr>\n",
       "    <tr>\n",
       "      <th>5</th>\n",
       "      <td>0</td>\n",
       "      <td>21</td>\n",
       "      <td>24553</td>\n",
       "      <td>5797</td>\n",
       "      <td>4.235467</td>\n",
       "    </tr>\n",
       "    <tr>\n",
       "      <th>6</th>\n",
       "      <td>0</td>\n",
       "      <td>21</td>\n",
       "      <td>24440</td>\n",
       "      <td>5420</td>\n",
       "      <td>4.509225</td>\n",
       "    </tr>\n",
       "    <tr>\n",
       "      <th>7</th>\n",
       "      <td>0</td>\n",
       "      <td>21</td>\n",
       "      <td>27535</td>\n",
       "      <td>5537</td>\n",
       "      <td>4.972910</td>\n",
       "    </tr>\n",
       "  </tbody>\n",
       "</table>\n",
       "</div>"
      ],
      "text/plain": [
       "                min  max    sum  count      mean\n",
       "e_year e_month                                  \n",
       "2019   6          0   21   1499    177  8.468927\n",
       "       7          0   21   3040    471  6.454352\n",
       "       8          0   21   7386   1067  6.922212\n",
       "       9          0   21  12040   1950  6.174359\n",
       "       10         0   21  14269   2744  5.200073\n",
       "       11         0   21  15895   3234  4.914966\n",
       "       12         0   21  17970   3814  4.711589\n",
       "2020   1          0   21  22831   4953  4.609530\n",
       "       2          0   21  24960   5304  4.705882\n",
       "       3          0   21  28619   6158  4.647450\n",
       "       4          0   21  31886   7072  4.508767\n",
       "       5          0   21  24553   5797  4.235467\n",
       "       6          0   21  24440   5420  4.509225\n",
       "       7          0   21  27535   5537  4.972910"
      ]
     },
     "execution_count": 124,
     "metadata": {},
     "output_type": "execute_result"
    },
    {
     "data": {
      "image/png": "[encoded data removed]",
      "text/plain": [
       "<Figure size 1440x720 with 1 Axes>"
      ]
     },
     "metadata": {},
     "output_type": "display_data"
    }
   ],
   "source": [
    "boxplot = df.boxplot(column=['score'], by = ['e_year', 'e_month'], figsize=(20,10))\n",
    "avg_score = df.groupby(['e_year', 'e_month']).score.agg([\"min\", \n",
    "                                               \"max\", \n",
    "                                               \"sum\", \n",
    "                                               \"count\", \n",
    "                                               \"mean\"]) \n",
    "avg_score"
   ]
  },
  {
   "cell_type": "markdown",
   "metadata": {},
   "source": [
    "#### FIndings \n",
    "\n",
    "1.\tIt’s already established that we have seen a decline in the number of exams taken after April 2020. \n",
    "2.\tHere, we are looking at how the average score is varying since the June 2019. \n",
    "3.\tWe can see that the average score of the exams are declining in a consistent pace, and it doesn’t seem to have any correlation with the number of exams taken. \n",
    "4.\tWe need to understand why there is a decrease in the average score, and if we are able to identify this, we can make some effort in reducing the Anxiety level in patients. \n",
    "5.\tA possible explanation would be, due to COVID, people staying at home, spending more time with family and pets is helping their anxiety level and this is a wild hypothesis, and can be put to test if we have more rhetorical data and analyze the change since beginning. \t \n",
    "6.\tE_year and e_month represent the Year and Month when the exam was taken respectively. \n",
    "7.\tBut, on further examination of the box plot, we see that the outliers seem to have risen towards the end. So, may be, on the other end of the spectrum, COVID Lockdown has affected the mental health of a very select people very badly. \n",
    "8.\tWe can look in depth of these outlier patients to understand what went wrong. This will help us to evaluate the effect of COVID lockdown, if that’s a significant contributing factor. \n"
   ]
  },
  {
   "cell_type": "markdown",
   "metadata": {},
   "source": [
    "## 4. Effect of the time when the examination was taken on the score"
   ]
  },
  {
   "cell_type": "code",
   "execution_count": 80,
   "metadata": {},
   "outputs": [],
   "source": [
    "df['e_hour'] = df['date'].dt.hour # hour\n",
    "df['e_hour_time'] = np.nan\n",
    "df.e_hour_time = df.e_hour_time.mask((((df.e_hour >=18)&(df.e_hour <=24)) | ((df.e_hour >=1)&(df.e_hour <=6))),'Night')\n",
    "df.e_hour_time = df.e_hour_time.mask((((df.e_hour >=7)&(df.e_hour <=17))),'Morning')"
   ]
  },
  {
   "cell_type": "code",
   "execution_count": 112,
   "metadata": {},
   "outputs": [
    {
     "data": {
      "text/html": [
       "<div>\n",
       "<style scoped>\n",
       "    .dataframe tbody tr th:only-of-type {\n",
       "        vertical-align: middle;\n",
       "    }\n",
       "\n",
       "    .dataframe tbody tr th {\n",
       "        vertical-align: top;\n",
       "    }\n",
       "\n",
       "    .dataframe thead th {\n",
       "        text-align: right;\n",
       "    }\n",
       "</style>\n",
       "<table border=\"1\" class=\"dataframe\">\n",
       "  <thead>\n",
       "    <tr style=\"text-align: right;\">\n",
       "      <th></th>\n",
       "      <th>min</th>\n",
       "      <th>max</th>\n",
       "      <th>sum</th>\n",
       "      <th>count</th>\n",
       "      <th>mean</th>\n",
       "    </tr>\n",
       "    <tr>\n",
       "      <th>e_hour_time</th>\n",
       "      <th></th>\n",
       "      <th></th>\n",
       "      <th></th>\n",
       "      <th></th>\n",
       "      <th></th>\n",
       "    </tr>\n",
       "  </thead>\n",
       "  <tbody>\n",
       "    <tr>\n",
       "      <th>Morning</th>\n",
       "      <td>0</td>\n",
       "      <td>21</td>\n",
       "      <td>140187</td>\n",
       "      <td>30946</td>\n",
       "      <td>4.530052</td>\n",
       "    </tr>\n",
       "    <tr>\n",
       "      <th>Night</th>\n",
       "      <td>0</td>\n",
       "      <td>21</td>\n",
       "      <td>110381</td>\n",
       "      <td>21686</td>\n",
       "      <td>5.089966</td>\n",
       "    </tr>\n",
       "  </tbody>\n",
       "</table>\n",
       "</div>"
      ],
      "text/plain": [
       "             min  max     sum  count      mean\n",
       "e_hour_time                                   \n",
       "Morning        0   21  140187  30946  4.530052\n",
       "Night          0   21  110381  21686  5.089966"
      ]
     },
     "execution_count": 112,
     "metadata": {},
     "output_type": "execute_result"
    }
   ],
   "source": [
    "avg_score_time = df.groupby(['e_hour_time']).score.agg([\"min\", \n",
    "                                               \"max\", \n",
    "                                               \"sum\", \n",
    "                                               \"count\", \n",
    "                                               \"mean\"]) \n",
    "avg_score_time"
   ]
  },
  {
   "cell_type": "code",
   "execution_count": 128,
   "metadata": {},
   "outputs": [
    {
     "name": "stdout",
     "output_type": "stream",
     "text": [
      "Ttest_indResult(statistic=-11.043003237049533, pvalue=2.5745267668642746e-28)\n",
      "Reject Null Hypothesis, mean of night is greater than mean of morning\n"
     ]
    }
   ],
   "source": [
    "from scipy.stats import ttest_ind\n",
    "\n",
    "df1 = df\n",
    "\n",
    "morning = df1[(df1['e_hour_time'] != 'Night')]\n",
    "night = df1[(df1['e_hour_time'] == 'Night')]\n",
    "\n",
    "# t test for comparing whether or not Averarge Amount Earned with Promotion > Amount without Promotion\n",
    "\n",
    "results = ttest_ind(morning.score, night.score, equal_var=False)\n",
    "print(results)\n",
    "alpha = 0.05\n",
    "if ((results[0] < 0) & (results[1]/2 < alpha)):\n",
    "    print (\"Reject Null Hypothesis, mean of {} is greater than mean of {}\".format('night','morning'))\n",
    "else:\n",
    "    print (\"Accept Null Hypothesis\")\n",
    "    "
   ]
  },
  {
   "cell_type": "markdown",
   "metadata": {},
   "source": [
    "#### Findings \n",
    "\n",
    "1.\tAmongst the data that is provided for analysis, date is one of the most important factors to work with. \n",
    "2.\tThe information to be extracted from the date parameter is huge. \n",
    "3.\tWe have already established that the exam is taken in an electronic medium and we are trying to determine whether the time in which the patient take an exam is a factor that will affect the score. \n",
    "4.\tAnxiety level varies between a day for a person, right from the time he wakes up to the time he goes to sleep. \n",
    "5.\tHere for analysis, we have set up the Mornings to be time between 6 AM – 6 PM and the nights to be between 6 PM – 6 AM. \n",
    "6.\tBasic understanding is as below.\t \n",
    "7.\tOn preliminary analysis, we see that the Average score for the exam taken during morning is less than the average score for the exam taken during the night. \n",
    "8.\tBut we need to have a proof statistically and so we do a hypothesis testing on the mean. \n",
    "            a.\tAverage Score in Morning – µ_1 | Average Score in the Night – µ_2\n",
    "            b.\tNull Hypothesis – H0 : µ_1= µ_2 | Alternate Hypothesis – H1 : µ_1 < µ_2\n",
    "            c.\tHere, as far as this problem is concerned, it is preferable to do Welch’s T test, because there is high possibility that the Variance of these samples might not be equal.\n",
    "            d.\tSo, for the Rejection Criteria for the Null Hypothesis, the test statistic < -t (α,V). Since the Degree of Freedom is Really high, we choose the comparing statistic to be 1.96 (From t table).\n",
    "            e.\tAlso, If p-value is less than 0.5, it also rejects the null hypothesis.\n",
    "9.\tHere, p-value is 2.57 e-28, it is much much smaller that 0.5 and the test statistic is -11.3, we reject the null hypothesis and accept the alternate hypothesis that the Average score in night is higher than the average score in morning. \n",
    "10.\tSo, if we can prove this on a much larger sample, we can make sure that we have the patients take the exam probably two times a day, one during morning and one during night and the result can be aggregated to get a more reliable result. \n"
   ]
  },
  {
   "cell_type": "markdown",
   "metadata": {},
   "source": [
    "## 5.\tEffect of the day when the examination was taken on the score"
   ]
  },
  {
   "cell_type": "code",
   "execution_count": 83,
   "metadata": {},
   "outputs": [],
   "source": [
    "df['e_day'] = df['date'].dt.day_name()\n",
    "df['e_weekend'] = np.nan\n",
    "df.e_weekend = df.e_weekend.mask( ((df.e_day == \"Friday\") | (df.e_day == \"Saturday\") | (df.e_day == \"Thursday\")),  'Weekend')\n",
    "df.e_weekend = df.e_weekend.mask( ((df.e_day == \"Monday\") | (df.e_day == \"Tuesday\") | (df.e_day == \"Wednesday\") | (df.e_day == \"Sunday\")), 'Weekday')\n"
   ]
  },
  {
   "cell_type": "code",
   "execution_count": 113,
   "metadata": {},
   "outputs": [
    {
     "data": {
      "text/html": [
       "<div>\n",
       "<style scoped>\n",
       "    .dataframe tbody tr th:only-of-type {\n",
       "        vertical-align: middle;\n",
       "    }\n",
       "\n",
       "    .dataframe tbody tr th {\n",
       "        vertical-align: top;\n",
       "    }\n",
       "\n",
       "    .dataframe thead th {\n",
       "        text-align: right;\n",
       "    }\n",
       "</style>\n",
       "<table border=\"1\" class=\"dataframe\">\n",
       "  <thead>\n",
       "    <tr style=\"text-align: right;\">\n",
       "      <th></th>\n",
       "      <th>min</th>\n",
       "      <th>max</th>\n",
       "      <th>sum</th>\n",
       "      <th>count</th>\n",
       "      <th>mean</th>\n",
       "    </tr>\n",
       "    <tr>\n",
       "      <th>e_weekend</th>\n",
       "      <th></th>\n",
       "      <th></th>\n",
       "      <th></th>\n",
       "      <th></th>\n",
       "      <th></th>\n",
       "    </tr>\n",
       "  </thead>\n",
       "  <tbody>\n",
       "    <tr>\n",
       "      <th>Weekday</th>\n",
       "      <td>0</td>\n",
       "      <td>21</td>\n",
       "      <td>162558</td>\n",
       "      <td>33727</td>\n",
       "      <td>4.819818</td>\n",
       "    </tr>\n",
       "    <tr>\n",
       "      <th>Weekend</th>\n",
       "      <td>0</td>\n",
       "      <td>21</td>\n",
       "      <td>94365</td>\n",
       "      <td>19971</td>\n",
       "      <td>4.725101</td>\n",
       "    </tr>\n",
       "  </tbody>\n",
       "</table>\n",
       "</div>"
      ],
      "text/plain": [
       "           min  max     sum  count      mean\n",
       "e_weekend                                   \n",
       "Weekday      0   21  162558  33727  4.819818\n",
       "Weekend      0   21   94365  19971  4.725101"
      ]
     },
     "execution_count": 113,
     "metadata": {},
     "output_type": "execute_result"
    }
   ],
   "source": [
    "avg_score_weekend = df.groupby(['e_weekend']).score.agg([\"min\", \n",
    "                                               \"max\", \n",
    "                                               \"sum\", \n",
    "                                               \"count\", \n",
    "                                               \"mean\"]) \n",
    "avg_score_weekend"
   ]
  },
  {
   "cell_type": "code",
   "execution_count": 130,
   "metadata": {},
   "outputs": [
    {
     "name": "stdout",
     "output_type": "stream",
     "text": [
      "Accept Null Hypothesis\n"
     ]
    }
   ],
   "source": [
    "from scipy.stats import ttest_ind\n",
    "\n",
    "df1 = df\n",
    "\n",
    "weekday = df1[(df1['e_weekend'] != 'Weekend')]\n",
    "weekend = df1[(df1['e_weekend'] == 'Weekend')]\n",
    "\n",
    "# t test for comparing whether or not Averarge Amount Earned with Promotion > Amount without Promotion\n",
    "\n",
    "results = ttest_ind(weekday.score, weekend.score, equal_var=False)\n",
    "\n",
    "alpha = 0.05\n",
    "if ((results[0] < 0) & (results[1]/2 < alpha)):\n",
    "    print (\"Reject Null Hypothesis, mean of {} is greater than mean of {}\".format('weekend','weekday'))\n",
    "else:\n",
    "    print (\"Accept Null Hypothesis\")"
   ]
  },
  {
   "cell_type": "markdown",
   "metadata": {},
   "source": [
    "#### Findings\n",
    "\n",
    "1.\tSimilar to the Effect of Time of exam on the score, we perform a test to see whether the day of the exam has an effect. \n",
    "2.\tFor example, a person might have less anxiety towards the weekend and vice versa. So, we analyze this and see if we have any statistical proof. \n",
    "3.\tWe follow, the very same procedure as mentioned in “Effect of time of exam score” and the initial analysis shows that there might not be much difference when it comes to days\n",
    "4.\tWeekdays are Sunday, Monday, Tuesday and Wednesday\n",
    "5.\tWeekdays are Thursday, Friday and Saturday \n",
    "6.\tThe classification is done based on a simple understanding that people embrace a Friday looking for a weekend, but on Sunday getting, an idea of getting back to reality might affect their anxiety level. \t \n",
    "7.\tAs expected the statistical test, doesn’t not give evidence that means of average score on weekday is different from average score on weekends. \t \n",
    "8.\tSimilar to this, we could work on different parameters of date to see whether there is an impact that we would like to work on. For example, exam before a day of holiday, exam on any specific day of the week, beginning of year, beginning of week, score change relative to these specific days against the total average. \n",
    "9.\tWe need to maximize the details that we can extract from dates, so all these tests are recommended\n"
   ]
  },
  {
   "cell_type": "markdown",
   "metadata": {},
   "source": [
    "## 6.\tNumber of exams taken by the patient and the average score in the group"
   ]
  },
  {
   "cell_type": "code",
   "execution_count": 86,
   "metadata": {},
   "outputs": [
    {
     "data": {
      "text/html": [
       "<div>\n",
       "<style scoped>\n",
       "    .dataframe tbody tr th:only-of-type {\n",
       "        vertical-align: middle;\n",
       "    }\n",
       "\n",
       "    .dataframe tbody tr th {\n",
       "        vertical-align: top;\n",
       "    }\n",
       "\n",
       "    .dataframe thead th {\n",
       "        text-align: right;\n",
       "    }\n",
       "</style>\n",
       "<table border=\"1\" class=\"dataframe\">\n",
       "  <thead>\n",
       "    <tr style=\"text-align: right;\">\n",
       "      <th></th>\n",
       "      <th>patient_id</th>\n",
       "      <th>Average of Scores</th>\n",
       "    </tr>\n",
       "    <tr>\n",
       "      <th>Count of Tests</th>\n",
       "      <th></th>\n",
       "      <th></th>\n",
       "    </tr>\n",
       "  </thead>\n",
       "  <tbody>\n",
       "    <tr>\n",
       "      <th>1</th>\n",
       "      <td>4597</td>\n",
       "      <td>6.071568</td>\n",
       "    </tr>\n",
       "    <tr>\n",
       "      <th>2</th>\n",
       "      <td>2422</td>\n",
       "      <td>5.326796</td>\n",
       "    </tr>\n",
       "    <tr>\n",
       "      <th>3</th>\n",
       "      <td>2106</td>\n",
       "      <td>4.531339</td>\n",
       "    </tr>\n",
       "    <tr>\n",
       "      <th>4</th>\n",
       "      <td>1947</td>\n",
       "      <td>4.430663</td>\n",
       "    </tr>\n",
       "    <tr>\n",
       "      <th>5</th>\n",
       "      <td>1536</td>\n",
       "      <td>4.342839</td>\n",
       "    </tr>\n",
       "    <tr>\n",
       "      <th>6</th>\n",
       "      <td>1079</td>\n",
       "      <td>4.353568</td>\n",
       "    </tr>\n",
       "    <tr>\n",
       "      <th>7</th>\n",
       "      <td>895</td>\n",
       "      <td>4.779888</td>\n",
       "    </tr>\n",
       "    <tr>\n",
       "      <th>8</th>\n",
       "      <td>380</td>\n",
       "      <td>4.582566</td>\n",
       "    </tr>\n",
       "    <tr>\n",
       "      <th>9</th>\n",
       "      <td>138</td>\n",
       "      <td>5.018519</td>\n",
       "    </tr>\n",
       "    <tr>\n",
       "      <th>10</th>\n",
       "      <td>90</td>\n",
       "      <td>4.503333</td>\n",
       "    </tr>\n",
       "    <tr>\n",
       "      <th>11</th>\n",
       "      <td>64</td>\n",
       "      <td>5.044034</td>\n",
       "    </tr>\n",
       "    <tr>\n",
       "      <th>12</th>\n",
       "      <td>51</td>\n",
       "      <td>4.934641</td>\n",
       "    </tr>\n",
       "    <tr>\n",
       "      <th>13</th>\n",
       "      <td>48</td>\n",
       "      <td>4.741987</td>\n",
       "    </tr>\n",
       "    <tr>\n",
       "      <th>14</th>\n",
       "      <td>46</td>\n",
       "      <td>5.509317</td>\n",
       "    </tr>\n",
       "    <tr>\n",
       "      <th>15</th>\n",
       "      <td>24</td>\n",
       "      <td>4.911111</td>\n",
       "    </tr>\n",
       "    <tr>\n",
       "      <th>16</th>\n",
       "      <td>23</td>\n",
       "      <td>4.364130</td>\n",
       "    </tr>\n",
       "    <tr>\n",
       "      <th>17</th>\n",
       "      <td>21</td>\n",
       "      <td>4.492997</td>\n",
       "    </tr>\n",
       "    <tr>\n",
       "      <th>18</th>\n",
       "      <td>8</td>\n",
       "      <td>6.166667</td>\n",
       "    </tr>\n",
       "    <tr>\n",
       "      <th>19</th>\n",
       "      <td>4</td>\n",
       "      <td>8.907895</td>\n",
       "    </tr>\n",
       "    <tr>\n",
       "      <th>20</th>\n",
       "      <td>6</td>\n",
       "      <td>6.925000</td>\n",
       "    </tr>\n",
       "    <tr>\n",
       "      <th>21</th>\n",
       "      <td>3</td>\n",
       "      <td>2.476190</td>\n",
       "    </tr>\n",
       "    <tr>\n",
       "      <th>22</th>\n",
       "      <td>2</td>\n",
       "      <td>8.386364</td>\n",
       "    </tr>\n",
       "    <tr>\n",
       "      <th>24</th>\n",
       "      <td>1</td>\n",
       "      <td>0.708333</td>\n",
       "    </tr>\n",
       "    <tr>\n",
       "      <th>26</th>\n",
       "      <td>1</td>\n",
       "      <td>2.846154</td>\n",
       "    </tr>\n",
       "    <tr>\n",
       "      <th>28</th>\n",
       "      <td>2</td>\n",
       "      <td>7.107143</td>\n",
       "    </tr>\n",
       "    <tr>\n",
       "      <th>31</th>\n",
       "      <td>1</td>\n",
       "      <td>4.806452</td>\n",
       "    </tr>\n",
       "    <tr>\n",
       "      <th>32</th>\n",
       "      <td>1</td>\n",
       "      <td>16.375000</td>\n",
       "    </tr>\n",
       "    <tr>\n",
       "      <th>33</th>\n",
       "      <td>1</td>\n",
       "      <td>0.363636</td>\n",
       "    </tr>\n",
       "    <tr>\n",
       "      <th>34</th>\n",
       "      <td>2</td>\n",
       "      <td>4.955882</td>\n",
       "    </tr>\n",
       "    <tr>\n",
       "      <th>38</th>\n",
       "      <td>1</td>\n",
       "      <td>3.526316</td>\n",
       "    </tr>\n",
       "    <tr>\n",
       "      <th>42</th>\n",
       "      <td>1</td>\n",
       "      <td>6.166667</td>\n",
       "    </tr>\n",
       "    <tr>\n",
       "      <th>84</th>\n",
       "      <td>1</td>\n",
       "      <td>17.761905</td>\n",
       "    </tr>\n",
       "  </tbody>\n",
       "</table>\n",
       "</div>"
      ],
      "text/plain": [
       "                patient_id  Average of Scores\n",
       "Count of Tests                               \n",
       "1                     4597           6.071568\n",
       "2                     2422           5.326796\n",
       "3                     2106           4.531339\n",
       "4                     1947           4.430663\n",
       "5                     1536           4.342839\n",
       "6                     1079           4.353568\n",
       "7                      895           4.779888\n",
       "8                      380           4.582566\n",
       "9                      138           5.018519\n",
       "10                      90           4.503333\n",
       "11                      64           5.044034\n",
       "12                      51           4.934641\n",
       "13                      48           4.741987\n",
       "14                      46           5.509317\n",
       "15                      24           4.911111\n",
       "16                      23           4.364130\n",
       "17                      21           4.492997\n",
       "18                       8           6.166667\n",
       "19                       4           8.907895\n",
       "20                       6           6.925000\n",
       "21                       3           2.476190\n",
       "22                       2           8.386364\n",
       "24                       1           0.708333\n",
       "26                       1           2.846154\n",
       "28                       2           7.107143\n",
       "31                       1           4.806452\n",
       "32                       1          16.375000\n",
       "33                       1           0.363636\n",
       "34                       2           4.955882\n",
       "38                       1           3.526316\n",
       "42                       1           6.166667\n",
       "84                       1          17.761905"
      ]
     },
     "execution_count": 86,
     "metadata": {},
     "output_type": "execute_result"
    }
   ],
   "source": [
    "d = {'date':'Count of Tests', 'score':'Average of Scores'}\n",
    "patient=df.groupby('patient_id').agg({'date':'count', 'score':'mean'}).rename(columns=d)\n",
    "patient = patient.reset_index()\n",
    "patient = patient.groupby('Count of Tests').agg({'patient_id':'count', 'Average of Scores':'mean'}).rename(columns=d)\n",
    "patient"
   ]
  },
  {
   "cell_type": "markdown",
   "metadata": {},
   "source": [
    "#### Findings \n",
    "\n",
    "1. There doesn’t seem to be any significant findings from the above table, about the relationship between the number of exams that a patient takes and the average score in their group.\n",
    "2.\tAlso, there are a few patients with an incredibly high number of exams, so we might want to investigate those specific patients to analyze the need for taking so many exams and providing them with special care. \n"
   ]
  },
  {
   "cell_type": "markdown",
   "metadata": {},
   "source": [
    "## 7. Variation of the Severity Level "
   ]
  },
  {
   "cell_type": "code",
   "execution_count": 87,
   "metadata": {},
   "outputs": [],
   "source": [
    "df['severity'] = np.nan\n",
    "df.severity = df.severity.mask((((df.score >=0)&(df.score <=5))),'Low to Minimal')\n",
    "df.severity = df.severity.mask((((df.score >=6)&(df.score <=10))),'Mild')\n",
    "df.severity = df.severity.mask((((df.score >=11)&(df.score <=15))),'Moderate')\n",
    "df.severity = df.severity.mask((((df.score >=16)&(df.score <=21))),'Severe')"
   ]
  },
  {
   "cell_type": "code",
   "execution_count": 114,
   "metadata": {},
   "outputs": [
    {
     "data": {
      "text/html": [
       "<div>\n",
       "<style scoped>\n",
       "    .dataframe tbody tr th:only-of-type {\n",
       "        vertical-align: middle;\n",
       "    }\n",
       "\n",
       "    .dataframe tbody tr th {\n",
       "        vertical-align: top;\n",
       "    }\n",
       "\n",
       "    .dataframe thead th {\n",
       "        text-align: right;\n",
       "    }\n",
       "</style>\n",
       "<table border=\"1\" class=\"dataframe\">\n",
       "  <thead>\n",
       "    <tr style=\"text-align: right;\">\n",
       "      <th></th>\n",
       "      <th>patient_id</th>\n",
       "    </tr>\n",
       "    <tr>\n",
       "      <th>severity</th>\n",
       "      <th></th>\n",
       "    </tr>\n",
       "  </thead>\n",
       "  <tbody>\n",
       "    <tr>\n",
       "      <th>Low to Minimal</th>\n",
       "      <td>35402</td>\n",
       "    </tr>\n",
       "    <tr>\n",
       "      <th>Mild</th>\n",
       "      <td>10275</td>\n",
       "    </tr>\n",
       "    <tr>\n",
       "      <th>Moderate</th>\n",
       "      <td>4651</td>\n",
       "    </tr>\n",
       "    <tr>\n",
       "      <th>Severe</th>\n",
       "      <td>3370</td>\n",
       "    </tr>\n",
       "  </tbody>\n",
       "</table>\n",
       "</div>"
      ],
      "text/plain": [
       "                patient_id\n",
       "severity                  \n",
       "Low to Minimal       35402\n",
       "Mild                 10275\n",
       "Moderate              4651\n",
       "Severe                3370"
      ]
     },
     "execution_count": 114,
     "metadata": {},
     "output_type": "execute_result"
    },
    {
     "data": {
      "image/png": "[encoded data removed]",
      "text/plain": [
       "<Figure size 576x576 with 1 Axes>"
      ]
     },
     "metadata": {},
     "output_type": "display_data"
    }
   ],
   "source": [
    "severitylevel = df.groupby(['severity']).count()[['patient_id']]\n",
    "severitylevel.plot.pie(subplots=True,figsize=(8, 8))\n",
    "severitylevel"
   ]
  },
  {
   "cell_type": "markdown",
   "metadata": {},
   "source": [
    "#### Findings\n",
    "\n",
    "1.\tAs given, there are four different severity levels, and it is only reasonable to analyze the split of patients based on their average score level. \n",
    "1.\tIt is obvious that most patients will have low to minimal severity but understanding this will give us a better a perspective about where the patients lie. \n",
    "3.\tA table and a pie chart are provided for analysis \n"
   ]
  },
  {
   "cell_type": "markdown",
   "metadata": {},
   "source": [
    "## 8. The Average and the Spread of the data"
   ]
  },
  {
   "cell_type": "code",
   "execution_count": 89,
   "metadata": {},
   "outputs": [
    {
     "name": "stderr",
     "output_type": "stream",
     "text": [
      "/Users/arvindramkumar/anaconda3/lib/python3.6/site-packages/matplotlib/axes/_axes.py:6462: UserWarning: The 'normed' kwarg is deprecated, and has been replaced by the 'density' kwarg.\n",
      "  warnings.warn(\"The 'normed' kwarg is deprecated, and has been \"\n",
      "/Users/arvindramkumar/anaconda3/lib/python3.6/site-packages/ipykernel_launcher.py:7: MatplotlibDeprecationWarning: scipy.stats.norm.pdf\n",
      "  import sys\n"
     ]
    },
    {
     "data": {
      "image/png": "[encoded data removed]",
      "text/plain": [
       "<Figure size 432x288 with 1 Axes>"
      ]
     },
     "metadata": {},
     "output_type": "display_data"
    },
    {
     "name": "stdout",
     "output_type": "stream",
     "text": [
      "The mean of the scores is  4.784591604901486\n",
      "The standard deviation or the spread of the score is  5.246920585650435\n"
     ]
    }
   ],
   "source": [
    "from matplotlib import pyplot as plt\n",
    "import matplotlib.mlab as mlab\n",
    "\n",
    "n, bins, patches = plt.hist(df.score, 50, normed=1)\n",
    "mu = np.mean(df.score)\n",
    "sigma = np.std(df.score)\n",
    "plt.plot(bins, mlab.normpdf(bins, mu, sigma))\n",
    "plt.title('Distribution of Score')\n",
    "plt.show()\n",
    "print('The mean of the scores is ', mu)\n",
    "print('The standard deviation or the spread of the score is ',sigma)"
   ]
  },
  {
   "cell_type": "markdown",
   "metadata": {},
   "source": [
    "#### Findings \n",
    "\n",
    "1.\tThis is an extension of exam score variation. \n",
    "2.\tHere we would like to see how the data is spread to have a better understanding of the patients. \n",
    "3.\tA frequency distribution chart is provided, and the results are obvious that most patients have a low score and the data is skewed left. \n"
   ]
  },
  {
   "cell_type": "markdown",
   "metadata": {},
   "source": [
    "## 9.\tNumber of patients that took the exam on the day registration"
   ]
  },
  {
   "cell_type": "code",
   "execution_count": 97,
   "metadata": {},
   "outputs": [],
   "source": [
    "df['samedayexam'] = np.nan\n",
    "df.samedayexam = df.samedayexam.mask(((df['date'].dt.date == df['patient_date_created'].dt.date)),1)\n",
    "df.samedayexam = df.samedayexam.mask(((df['date'].dt.date != df['patient_date_created'].dt.date)),0)"
   ]
  },
  {
   "cell_type": "code",
   "execution_count": 115,
   "metadata": {},
   "outputs": [
    {
     "data": {
      "text/html": [
       "<div>\n",
       "<style scoped>\n",
       "    .dataframe tbody tr th:only-of-type {\n",
       "        vertical-align: middle;\n",
       "    }\n",
       "\n",
       "    .dataframe tbody tr th {\n",
       "        vertical-align: top;\n",
       "    }\n",
       "\n",
       "    .dataframe thead th {\n",
       "        text-align: right;\n",
       "    }\n",
       "</style>\n",
       "<table border=\"1\" class=\"dataframe\">\n",
       "  <thead>\n",
       "    <tr style=\"text-align: right;\">\n",
       "      <th></th>\n",
       "      <th>patient_id</th>\n",
       "    </tr>\n",
       "    <tr>\n",
       "      <th>samedayexam</th>\n",
       "      <th></th>\n",
       "    </tr>\n",
       "  </thead>\n",
       "  <tbody>\n",
       "    <tr>\n",
       "      <th>0.0</th>\n",
       "      <td>50639</td>\n",
       "    </tr>\n",
       "    <tr>\n",
       "      <th>1.0</th>\n",
       "      <td>3059</td>\n",
       "    </tr>\n",
       "  </tbody>\n",
       "</table>\n",
       "</div>"
      ],
      "text/plain": [
       "             patient_id\n",
       "samedayexam            \n",
       "0.0               50639\n",
       "1.0                3059"
      ]
     },
     "execution_count": 115,
     "metadata": {},
     "output_type": "execute_result"
    },
    {
     "data": {
      "image/png": "[encoded data removed]",
      "text/plain": [
       "<Figure size 576x576 with 1 Axes>"
      ]
     },
     "metadata": {},
     "output_type": "display_data"
    }
   ],
   "source": [
    "samedayexam = df.groupby('patient_id').sum()[['samedayexam']]\n",
    "samedayexam = samedayexam.reset_index()\n",
    "samedayexam = df.groupby('samedayexam').count()[['patient_id']]\n",
    "samedayexam.plot.pie(subplots=True,figsize=(8, 8))\n",
    "samedayexam"
   ]
  },
  {
   "cell_type": "markdown",
   "metadata": {},
   "source": [
    "#### Findings \n",
    "\n",
    "1.\tWe would like to know whether the patients took the exam on the same day they were registered.  \n",
    "2.\tThe results are surprising and only 5% of patients take exam on the same day. \n",
    "3.\tWe can see that the patients avoid taking the exam on the same day. It is highly recommended that more investigation is done on this to know the reason why patients aren’t taking the exam on the same day. \n",
    "4. Similar to the same day, same month analysis could also be done\n"
   ]
  },
  {
   "cell_type": "markdown",
   "metadata": {},
   "source": [
    "## 10.\tEffect of severity level and taking exam on the same day of registration "
   ]
  },
  {
   "cell_type": "code",
   "execution_count": 132,
   "metadata": {},
   "outputs": [
    {
     "data": {
      "text/html": [
       "<div>\n",
       "<style scoped>\n",
       "    .dataframe tbody tr th:only-of-type {\n",
       "        vertical-align: middle;\n",
       "    }\n",
       "\n",
       "    .dataframe tbody tr th {\n",
       "        vertical-align: top;\n",
       "    }\n",
       "\n",
       "    .dataframe thead th {\n",
       "        text-align: right;\n",
       "    }\n",
       "</style>\n",
       "<table border=\"1\" class=\"dataframe\">\n",
       "  <thead>\n",
       "    <tr style=\"text-align: right;\">\n",
       "      <th></th>\n",
       "      <th></th>\n",
       "      <th>patient_id</th>\n",
       "    </tr>\n",
       "    <tr>\n",
       "      <th>severity</th>\n",
       "      <th>samedayexam</th>\n",
       "      <th></th>\n",
       "    </tr>\n",
       "  </thead>\n",
       "  <tbody>\n",
       "    <tr>\n",
       "      <th rowspan=\"2\" valign=\"top\">Low to Minimal</th>\n",
       "      <th>0.0</th>\n",
       "      <td>33435</td>\n",
       "    </tr>\n",
       "    <tr>\n",
       "      <th>1.0</th>\n",
       "      <td>1967</td>\n",
       "    </tr>\n",
       "    <tr>\n",
       "      <th rowspan=\"2\" valign=\"top\">Mild</th>\n",
       "      <th>0.0</th>\n",
       "      <td>9720</td>\n",
       "    </tr>\n",
       "    <tr>\n",
       "      <th>1.0</th>\n",
       "      <td>555</td>\n",
       "    </tr>\n",
       "    <tr>\n",
       "      <th rowspan=\"2\" valign=\"top\">Moderate</th>\n",
       "      <th>0.0</th>\n",
       "      <td>4332</td>\n",
       "    </tr>\n",
       "    <tr>\n",
       "      <th>1.0</th>\n",
       "      <td>319</td>\n",
       "    </tr>\n",
       "    <tr>\n",
       "      <th rowspan=\"2\" valign=\"top\">Severe</th>\n",
       "      <th>0.0</th>\n",
       "      <td>3152</td>\n",
       "    </tr>\n",
       "    <tr>\n",
       "      <th>1.0</th>\n",
       "      <td>218</td>\n",
       "    </tr>\n",
       "  </tbody>\n",
       "</table>\n",
       "</div>"
      ],
      "text/plain": [
       "                            patient_id\n",
       "severity       samedayexam            \n",
       "Low to Minimal 0.0               33435\n",
       "               1.0                1967\n",
       "Mild           0.0                9720\n",
       "               1.0                 555\n",
       "Moderate       0.0                4332\n",
       "               1.0                 319\n",
       "Severe         0.0                3152\n",
       "               1.0                 218"
      ]
     },
     "execution_count": 132,
     "metadata": {},
     "output_type": "execute_result"
    },
    {
     "data": {
      "image/png": "[encoded data removed]",
      "text/plain": [
       "<Figure size 432x288 with 1 Axes>"
      ]
     },
     "metadata": {},
     "output_type": "display_data"
    }
   ],
   "source": [
    "pd.crosstab(df['severity'],df['samedayexam']).plot.bar()\n",
    "sameday_severity = df.groupby(['severity', 'samedayexam']).count()[['patient_id']]\n",
    "sameday_severity"
   ]
  },
  {
   "cell_type": "markdown",
   "metadata": {},
   "source": [
    "#### Findings \n",
    "\n",
    "1.\tThis is an extension of “Variation of Severity Level” and “Number of patients that took the exam on the same day of Registration”\n",
    "2.\tWe would like to see how these things are when put together. \n",
    "\t \n",
    "3.\tIt is advised to do a test for proportionality (Similar to the t-test), to see whether the patients taking the exam on the same day has anything to do with the severity level. \n",
    "4.\tNumber of patients who took the exam on the same day, to the number of patients who did not take the exam on the same day across different severity levels. If the proportions aren’t equal, then the severity level is a factor that is affecting the patients on taking the exam on the same day or not. \n"
   ]
  },
  {
   "cell_type": "markdown",
   "metadata": {},
   "source": [
    "# --------------------------------------------------------------------------------------------"
   ]
  },
  {
   "cell_type": "markdown",
   "metadata": {},
   "source": [
    "# Other Data Required / Recommendations for further Data Collection\n",
    "\n",
    "\n",
    "1. It’s better to know more about the patient’s detail, including and not limiting to age, Gender, family, demographic, location, area’s crime rate, neighborhood details etc. \n",
    "8.\tThe interest and involvement of the patient. The patient might have taken the test on their own will/ interest or being forced by someone else to take it. This might affect the test results and their reliability. \n",
    "9.\tRhetorical data since beginning of time to understand the YOY and the MOM change and to understand the effect of COVID lockdown in 2020. \n",
    " "
   ]
  },
  {
   "cell_type": "markdown",
   "metadata": {},
   "source": [
    "# --------------------------------------------------------------------------------------------"
   ]
  },
  {
   "cell_type": "markdown",
   "metadata": {},
   "source": [
    "# Recommended further analysis \n",
    "\n",
    "1.\tThe major problem being the visualization of progress of the patient, we can plot a line chart for individual patients and together they will give us more information about the overall impact of the treatment on the patients. Along the horizontal axis, we would like to have the exam number and the vertical axis will have the exam score. All the scores for the patients are plotted and for each patient, a line connecting the dots for that patient will indicate the progress of the patient. Together, we can have an overall idea about the impact of the treatment on the patient. \n",
    "2.\tWe can also do an analysis of the first exam score and the most recent exam scores, and if the change in the severity could be studied. It is either, the severity decreased, severity increased, or the severity had stayed the same. Based on this change, it is possible to say whether the treatment has been a positive change for the patient. Together, when we see the same result for the entire population, we will have an understanding about the impact of the treatment on everyone. \n",
    "3.\tAssuming the last exam date is the date, when the patient got better and moved out of the system, we will know the number days he had stayed within the system. So, A clustering algorithm, against the first test score and number of days the person was in the system, we will have an understanding about how many exams, days or how many treatments are required for a person to feel better based off the first exam score. \n",
    "4.\tWith the other personal details including the age and gender as mentioned in the (1) in the Other data required, we can develop a regression tree model to understand the factors affecting the exam score. If we are able to study that, that will be helpful for the doctor to treat the patient and we will have a better understanding about what causes the Anxiety in patients. \n",
    "5.\tOther date depend analysis as mentioned above needs to be performed to understand all the impacts that the dates have on the score. \n",
    "6.\tA rigid timeline/ schedule has to be set for taking the exam based on the severity level. This will help in minimizing the noise that affects the analysis and make the test more reliable. \n",
    "7.\tIn order to avoid the noise of the mindset at which the patient takes the exam, the exam needs to be taken at least twice in a single day at different time frame and an aggregate could be used as the score result, which makes the tests more reliable. \n"
   ]
  },
  {
   "cell_type": "markdown",
   "metadata": {},
   "source": [
    "# --------------------------------------------------------------------------------------------"
   ]
  }
 ],
 "metadata": {
  "kernelspec": {
   "display_name": "Python 3",
   "language": "python",
   "name": "python3"
  },
  "language_info": {
   "codemirror_mode": {
    "name": "ipython",
    "version": 3
   },
   "file_extension": ".py",
   "mimetype": "text/x-python",
   "name": "python",
   "nbconvert_exporter": "python",
   "pygments_lexer": "ipython3",
   "version": "3.6.8"
  }
 },
 "nbformat": 4,
 "nbformat_minor": 2
}
